{
  "nbformat": 4,
  "nbformat_minor": 0,
  "metadata": {
    "colab": {
      "provenance": []
    },
    "kernelspec": {
      "name": "python3",
      "display_name": "Python 3"
    },
    "language_info": {
      "name": "python"
    }
  },
  "cells": [
    {
      "cell_type": "code",
      "execution_count": null,
      "metadata": {
        "id": "fzNSUBlkf9PY"
      },
      "outputs": [],
      "source": []
    },
    {
      "cell_type": "markdown",
      "source": [
        "# Tuplas"
      ],
      "metadata": {
        "id": "pdw6p2CDlLhK"
      }
    },
    {
      "cell_type": "markdown",
      "source": [
        "Las tuplas son uno de los tipos básicos que provee Python y son muy utilizadas. Son objetos inmutables capaces de almacenar información en forma de vectores, lo que favorece el ahorro de espacio en memoria.\n",
        "\n",
        "##¿Qué es una tupla en Python?\n",
        "Las tuplas son un tipo de dato que permite almacenar información, por tanto forma parte de los tipos de datos colección.\n",
        "\n",
        "Las tuplas guardan los datos en forma de vectores y su uso es muy similar a las listas, con la salvedad de que las tuplas son inmutables, y por lo tanto no pueden modificar los datos una vez inicializados."
      ],
      "metadata": {
        "id": "dTkcOs7Mlb2w"
      }
    },
    {
      "cell_type": "markdown",
      "source": [
        "##Uso de las Tuplas\n",
        "### Se definen utilizando paréntesis () y los elementos se separan por comas.\n",
        "### Las tuplas se utilizan comúnmente para representar datos heterogéneos relacionados entre sí, como las coordenadas geográficas (latitud, longitud),"
      ],
      "metadata": {
        "id": "BrHC7QGcplRY"
      }
    },
    {
      "cell_type": "markdown",
      "source": [
        "##Creacion de Tuplas"
      ],
      "metadata": {
        "id": "JyH4bM_Rqk8g"
      }
    },
    {
      "cell_type": "code",
      "source": [
        "\n",
        "# Creación de una tupla vacía\n",
        "tupla_vacia = ()\n"
      ],
      "metadata": {
        "id": "YGJbDKmhqYJI"
      },
      "execution_count": null,
      "outputs": []
    },
    {
      "cell_type": "code",
      "source": [
        "\n",
        "\n",
        "# También se pueden crear sin paréntesis, solo con comas\n",
        "tupla = 1, 2, 3, 'a', 'b', 'c'\n",
        "\n"
      ],
      "metadata": {
        "id": "jF92Mrtdqu8B"
      },
      "execution_count": null,
      "outputs": []
    },
    {
      "cell_type": "code",
      "source": [
        "# Una tupla con un solo elemento debe incluir una coma al final\n",
        "tuplas = (42,)\n"
      ],
      "metadata": {
        "id": "X4cru46zq8HR"
      },
      "execution_count": null,
      "outputs": []
    },
    {
      "cell_type": "markdown",
      "source": [
        " ## Acceso a Elementos de Tuplas"
      ],
      "metadata": {
        "id": "VgeCCzsOrERp"
      }
    },
    {
      "cell_type": "code",
      "source": [
        "\n",
        "\n",
        "# Se accede a los elementos de la tupla utilizando índices\n",
        "print(mi_tupla[0])  # Salida: 1\n",
        "print(mi_tupla[-1]) # Salida: 'c'\n",
        "\n",
        "# ## Modificación y Eliminación de Elementos\n",
        "\n",
        "# Las tuplas son inmutables, lo que significa que no se pueden modificar después de su creación\n",
        "# Intentar modificar un elemento producirá un error TypeError\n",
        "# mi_tupla[0] = 5  # Esto producirá un error TypeError"
      ],
      "metadata": {
        "colab": {
          "base_uri": "https://localhost:8080/"
        },
        "id": "JcIB_mVOq_9x",
        "outputId": "9aeb5c61-a597-4931-9bd7-5109d78ca09b"
      },
      "execution_count": null,
      "outputs": [
        {
          "output_type": "stream",
          "name": "stdout",
          "text": [
            "1\n",
            "c\n"
          ]
        }
      ]
    },
    {
      "cell_type": "markdown",
      "source": [
        "##Diferencia entre Dupla y lista\n",
        "\n",
        "La gran diferencia entre las listas y las tuplas en Python es la mutabilidad de ambas. Las tuplas son inmutables, mientras que las listas son mutables.\n",
        "\n",
        "La gran ventaja que ofrecen las tuplas es el poco espacio que ocupan en memoria, dado que al ser inmutables, no necesitan reservar espacio adicional como en el caso de las listas."
      ],
      "metadata": {
        "id": "9oYdhBUgnzn4"
      }
    },
    {
      "cell_type": "code",
      "source": [
        "\n",
        "# Ejercicio 1: Crear una tupla con nombres de colores y muestra su longitud.\n",
        "colores = ('rojo', 'verde', 'azul')\n",
        "print(len(colores))  # Salida: 3\n",
        "\n"
      ],
      "metadata": {
        "colab": {
          "base_uri": "https://localhost:8080/"
        },
        "id": "8XWhXJMfrhKA",
        "outputId": "fb1c9187-cc73-44a5-9ea2-0d31b9cfb469"
      },
      "execution_count": null,
      "outputs": [
        {
          "output_type": "stream",
          "name": "stdout",
          "text": [
            "3\n"
          ]
        }
      ]
    },
    {
      "cell_type": "code",
      "source": [
        "# Ejercicio 2: Accede al segundo elemento de la tupla de nombres de colores.\n",
        "print(colores[1])  # Salida: 'verde'\n",
        "\n"
      ],
      "metadata": {
        "colab": {
          "base_uri": "https://localhost:8080/"
        },
        "id": "L8P1Q6_5r1_h",
        "outputId": "c36c2530-83bb-43a7-fc51-4d977585eb2a"
      },
      "execution_count": null,
      "outputs": [
        {
          "output_type": "stream",
          "name": "stdout",
          "text": [
            "verde\n"
          ]
        }
      ]
    },
    {
      "cell_type": "code",
      "source": [
        "# Ejercicio 3: Intenta modificar un elemento de la tupla de nombres de colores y observa el error que se produce.\n",
        " colores[0] = 'amarillo'  # Esto producirá un error TypeError\n",
        "\n"
      ],
      "metadata": {
        "id": "Mf3pQC86r9OI"
      },
      "execution_count": null,
      "outputs": []
    },
    {
      "cell_type": "code",
      "source": [
        "# Ejercicio 4: Concatena dos tuplas y muestra el resultado.\n",
        "colores_2 = ('amarillo', 'naranja')\n",
        "colores_concatenados = colores + colores_2\n",
        "print(colores_concatenados)  # Salida: ('rojo', 'verde', 'azul', 'amarillo', 'naranja')\n",
        "\n"
      ],
      "metadata": {
        "colab": {
          "base_uri": "https://localhost:8080/"
        },
        "id": "BzTJ5FWSsmb4",
        "outputId": "6dbebb66-da2a-464a-f433-2ad71f29a186"
      },
      "execution_count": null,
      "outputs": [
        {
          "output_type": "stream",
          "name": "stdout",
          "text": [
            "('rojo', 'verde', 'azul', 'amarillo', 'naranja')\n"
          ]
        }
      ]
    },
    {
      "cell_type": "code",
      "source": [
        "# Ejercicio 5: Convierte una tupla en una lista.\n",
        "colores_lista = list(colores)\n",
        "print(colores_lista)  # Salida: ['rojo', 'verde', 'azul']\n",
        "\n"
      ],
      "metadata": {
        "colab": {
          "base_uri": "https://localhost:8080/"
        },
        "id": "ndSgOAAsswig",
        "outputId": "412276ec-d3e0-4c25-c742-b077e17b5a5b"
      },
      "execution_count": null,
      "outputs": [
        {
          "output_type": "stream",
          "name": "stdout",
          "text": [
            "['rojo', 'verde', 'azul']\n"
          ]
        }
      ]
    },
    {
      "cell_type": "code",
      "source": [
        "# Ejercicio 6: Crea una tupla de números y encuentra el máximo y mínimo.\n",
        "numeros = (5, 3, 8, 2, 9)\n",
        "print(max(numeros))  # Salida: 9\n",
        "print(min(numeros))  # Salida: 2\n",
        "\n"
      ],
      "metadata": {
        "colab": {
          "base_uri": "https://localhost:8080/"
        },
        "id": "MnwOZFlUs3Lh",
        "outputId": "c5465a2b-57f5-47c6-d7ce-62c0f0443e44"
      },
      "execution_count": null,
      "outputs": [
        {
          "output_type": "stream",
          "name": "stdout",
          "text": [
            "9\n",
            "2\n"
          ]
        }
      ]
    },
    {
      "cell_type": "code",
      "source": [
        "# Ejercicio 7: Cuenta cuántas veces aparece un elemento en una tupla.\n",
        "print(colores.count('rojo'))  # Salida: 1\n",
        "\n"
      ],
      "metadata": {
        "id": "TONPkNNns8Xp",
        "colab": {
          "base_uri": "https://localhost:8080/"
        },
        "outputId": "09384de6-c233-4e33-834d-3342841d3a21"
      },
      "execution_count": 11,
      "outputs": [
        {
          "output_type": "stream",
          "name": "stdout",
          "text": [
            "1\n"
          ]
        }
      ]
    },
    {
      "cell_type": "code",
      "source": [
        "# Ejercicio 8: Elimina una tupla completamente.\n",
        "\n",
        "tupla=[1,2,3,4]\n",
        "del tupla\n",
        "print(\"Tupla Eliminada:)\")\n"
      ],
      "metadata": {
        "id": "4nZ7kQGFtAk5"
      },
      "execution_count": null,
      "outputs": []
    },
    {
      "cell_type": "code",
      "source": [
        "# Ejercicio 9: Crea una tupla anidada y accede a un elemento interno.\n",
        "tupla_anidada = ((1, 2), ('a', 'b'), (True, False))\n",
        "print(tupla_anidada[1][0])  # Salida: 'a'\n",
        "\n"
      ],
      "metadata": {
        "id": "UkvY4AcjtCux",
        "colab": {
          "base_uri": "https://localhost:8080/"
        },
        "outputId": "035363ae-e3bf-4f7c-ac08-0fdb503f8f88"
      },
      "execution_count": 19,
      "outputs": [
        {
          "output_type": "stream",
          "name": "stdout",
          "text": [
            "a\n"
          ]
        }
      ]
    },
    {
      "cell_type": "code",
      "source": [
        "# Ejercicio 10: Convierte una lista en una tupla.\n",
        "lista_numeros = [1, 2, 3, 4, 5]\n",
        "tupla_numeros = tuple(lista_numeros)\n",
        "print(tupla_numeros)  # Salida: (1, 2, 3, 4, 5)"
      ],
      "metadata": {
        "id": "gDaE7--ptE6Z",
        "colab": {
          "base_uri": "https://localhost:8080/"
        },
        "outputId": "d962d180-7234-4b6f-eb65-74f1ec383dc6"
      },
      "execution_count": 20,
      "outputs": [
        {
          "output_type": "stream",
          "name": "stdout",
          "text": [
            "(1, 2, 3, 4, 5)\n"
          ]
        }
      ]
    }
  ]
}